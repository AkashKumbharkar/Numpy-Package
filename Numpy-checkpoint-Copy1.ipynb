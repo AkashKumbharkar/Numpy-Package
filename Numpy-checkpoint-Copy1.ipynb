{
 "cells": [
  {
   "cell_type": "markdown",
   "id": "a84e6c67",
   "metadata": {},
   "source": [
    "# NUMPY "
   ]
  },
  {
   "cell_type": "markdown",
   "id": "b4256de0",
   "metadata": {},
   "source": [
    "# Welcome to numpy :"
   ]
  },
  {
   "cell_type": "markdown",
   "id": "8881d10a",
   "metadata": {},
   "source": [
    " **what is numpy :**\n",
    "    "
   ]
  },
  {
   "cell_type": "markdown",
   "id": "655ecb6e",
   "metadata": {},
   "source": [
    "NumPy is a Python library.\n",
    "\n",
    "NumPy is used for working with arrays.\n",
    "\n",
    "NumPy is short for \"Numerical Python\"."
   ]
  },
  {
   "cell_type": "markdown",
   "id": "25849d38",
   "metadata": {},
   "source": [
    "# Installation of NumPy\n",
    "   - If you have Python and PIP already installed on a system, then installation of NumPy is very easy.\n",
    "\n",
    "   - Install it using this command:\n",
    "\n",
    "   - pip install numpy"
   ]
  },
  {
   "cell_type": "markdown",
   "id": "f48f1c9b",
   "metadata": {},
   "source": [
    "# Import NumPy\n",
    "- Once NumPy is installed, import it in your applications by adding the import keyword:"
   ]
  },
  {
   "cell_type": "code",
   "execution_count": 1,
   "id": "cef03930",
   "metadata": {},
   "outputs": [],
   "source": [
    "import numpy as np"
   ]
  },
  {
   "cell_type": "markdown",
   "id": "d8ae3b53",
   "metadata": {},
   "source": [
    "NumPy is usually imported under the np alias."
   ]
  },
  {
   "cell_type": "code",
   "execution_count": 2,
   "id": "ecbf0051",
   "metadata": {},
   "outputs": [],
   "source": [
    "import numpy \n",
    "arr=numpy.array([i for i in range (19)])"
   ]
  },
  {
   "cell_type": "code",
   "execution_count": 3,
   "id": "0efadad9",
   "metadata": {},
   "outputs": [],
   "source": [
    "my_array=np.array([1,2,3,4,5])"
   ]
  },
  {
   "cell_type": "code",
   "execution_count": 4,
   "id": "85544c1e",
   "metadata": {},
   "outputs": [
    {
     "data": {
      "text/plain": [
       "numpy.ndarray"
      ]
     },
     "execution_count": 4,
     "metadata": {},
     "output_type": "execute_result"
    }
   ],
   "source": [
    "type(my_array)"
   ]
  },
  {
   "cell_type": "code",
   "execution_count": 5,
   "id": "af68eb34",
   "metadata": {},
   "outputs": [
    {
     "name": "stdout",
     "output_type": "stream",
     "text": [
      "[1 2 3 4 5]\n"
     ]
    }
   ],
   "source": [
    "print(my_array)"
   ]
  },
  {
   "cell_type": "code",
   "execution_count": 6,
   "id": "f35022bb",
   "metadata": {},
   "outputs": [],
   "source": [
    "my_array=np.array([1,2,30000,4,5] , np.int32)    #here we can manage a memory using np.int64"
   ]
  },
  {
   "cell_type": "code",
   "execution_count": 7,
   "id": "c7306a2a",
   "metadata": {},
   "outputs": [
    {
     "data": {
      "text/plain": [
       "array([    1,     2, 30000,     4,     5])"
      ]
     },
     "execution_count": 7,
     "metadata": {},
     "output_type": "execute_result"
    }
   ],
   "source": [
    "my_array"
   ]
  },
  {
   "cell_type": "code",
   "execution_count": null,
   "id": "1dd2c00a",
   "metadata": {},
   "outputs": [],
   "source": []
  },
  {
   "cell_type": "code",
   "execution_count": 8,
   "id": "c30f381b",
   "metadata": {},
   "outputs": [
    {
     "data": {
      "text/plain": [
       "array([    1,     2, 30000])"
      ]
     },
     "execution_count": 8,
     "metadata": {},
     "output_type": "execute_result"
    }
   ],
   "source": [
    "my_array[0:3]"
   ]
  },
  {
   "cell_type": "code",
   "execution_count": 9,
   "id": "bd219ca3",
   "metadata": {},
   "outputs": [
    {
     "data": {
      "text/plain": [
       "5"
      ]
     },
     "execution_count": 9,
     "metadata": {},
     "output_type": "execute_result"
    }
   ],
   "source": [
    "my_array[-1]"
   ]
  },
  {
   "cell_type": "code",
   "execution_count": 10,
   "id": "f99dc42a",
   "metadata": {},
   "outputs": [
    {
     "data": {
      "text/plain": [
       "array([    2, 30000,     4,     5])"
      ]
     },
     "execution_count": 10,
     "metadata": {},
     "output_type": "execute_result"
    }
   ],
   "source": [
    "my_array[1:7]"
   ]
  },
  {
   "cell_type": "code",
   "execution_count": 11,
   "id": "e8987336",
   "metadata": {},
   "outputs": [
    {
     "data": {
      "text/plain": [
       "5"
      ]
     },
     "execution_count": 11,
     "metadata": {},
     "output_type": "execute_result"
    }
   ],
   "source": [
    "my_array[-1]"
   ]
  },
  {
   "cell_type": "code",
   "execution_count": 12,
   "id": "1712b8a8",
   "metadata": {},
   "outputs": [
    {
     "data": {
      "text/plain": [
       "(5,)"
      ]
     },
     "execution_count": 12,
     "metadata": {},
     "output_type": "execute_result"
    }
   ],
   "source": [
    "my_array.shape"
   ]
  },
  {
   "cell_type": "code",
   "execution_count": 13,
   "id": "c64e82c8",
   "metadata": {},
   "outputs": [
    {
     "data": {
      "text/plain": [
       "dtype('int32')"
      ]
     },
     "execution_count": 13,
     "metadata": {},
     "output_type": "execute_result"
    }
   ],
   "source": [
    "my_array.dtype"
   ]
  },
  {
   "cell_type": "code",
   "execution_count": 14,
   "id": "b4f26601",
   "metadata": {},
   "outputs": [],
   "source": [
    "new_array=np.array([1,2,3,400000,5,6] , np.int64)\n"
   ]
  },
  {
   "cell_type": "code",
   "execution_count": 15,
   "id": "8b128b94",
   "metadata": {},
   "outputs": [
    {
     "data": {
      "text/plain": [
       "array([     1,      2,      3, 400000,      5,      6], dtype=int64)"
      ]
     },
     "execution_count": 15,
     "metadata": {},
     "output_type": "execute_result"
    }
   ],
   "source": [
    "new_array"
   ]
  },
  {
   "cell_type": "code",
   "execution_count": 16,
   "id": "27733cc3",
   "metadata": {},
   "outputs": [],
   "source": [
    "new_array[0]=20"
   ]
  },
  {
   "cell_type": "code",
   "execution_count": 17,
   "id": "e0a18efa",
   "metadata": {},
   "outputs": [
    {
     "data": {
      "text/plain": [
       "array([    20,      2,      3, 400000,      5,      6], dtype=int64)"
      ]
     },
     "execution_count": 17,
     "metadata": {},
     "output_type": "execute_result"
    }
   ],
   "source": [
    "new_array"
   ]
  },
  {
   "cell_type": "code",
   "execution_count": null,
   "id": "632ccf55",
   "metadata": {},
   "outputs": [],
   "source": []
  },
  {
   "cell_type": "markdown",
   "id": "481856d3",
   "metadata": {},
   "source": [
    "# array creation : conversion from other python structure"
   ]
  },
  {
   "cell_type": "code",
   "execution_count": 18,
   "id": "64dcfe74",
   "metadata": {},
   "outputs": [],
   "source": [
    "import numpy as np"
   ]
  },
  {
   "cell_type": "code",
   "execution_count": 19,
   "id": "d7881d90",
   "metadata": {},
   "outputs": [],
   "source": [
    "listarray=np.array([[1,2,3],[1,2,3],[1,2,3]])"
   ]
  },
  {
   "cell_type": "code",
   "execution_count": 20,
   "id": "e1fef757",
   "metadata": {},
   "outputs": [
    {
     "data": {
      "text/plain": [
       "array([[1, 2, 3],\n",
       "       [1, 2, 3],\n",
       "       [1, 2, 3]])"
      ]
     },
     "execution_count": 20,
     "metadata": {},
     "output_type": "execute_result"
    }
   ],
   "source": [
    "listarray"
   ]
  },
  {
   "cell_type": "code",
   "execution_count": 21,
   "id": "d68f8de8",
   "metadata": {},
   "outputs": [
    {
     "data": {
      "text/plain": [
       "dtype('int32')"
      ]
     },
     "execution_count": 21,
     "metadata": {},
     "output_type": "execute_result"
    }
   ],
   "source": [
    "listarray.dtype"
   ]
  },
  {
   "cell_type": "code",
   "execution_count": 22,
   "id": "8327c57d",
   "metadata": {},
   "outputs": [
    {
     "data": {
      "text/plain": [
       "(3, 3)"
      ]
     },
     "execution_count": 22,
     "metadata": {},
     "output_type": "execute_result"
    }
   ],
   "source": [
    "listarray.shape"
   ]
  },
  {
   "cell_type": "code",
   "execution_count": 23,
   "id": "ddbea793",
   "metadata": {},
   "outputs": [
    {
     "data": {
      "text/plain": [
       "9"
      ]
     },
     "execution_count": 23,
     "metadata": {},
     "output_type": "execute_result"
    }
   ],
   "source": [
    "listarray.size"
   ]
  },
  {
   "cell_type": "code",
   "execution_count": null,
   "id": "9b3c3394",
   "metadata": {},
   "outputs": [],
   "source": []
  },
  {
   "cell_type": "code",
   "execution_count": 24,
   "id": "c971b0dc",
   "metadata": {},
   "outputs": [],
   "source": [
    "zeros=np.zeros((2,5))"
   ]
  },
  {
   "cell_type": "code",
   "execution_count": 25,
   "id": "47a87a46",
   "metadata": {},
   "outputs": [
    {
     "data": {
      "text/plain": [
       "array([[0., 0., 0., 0., 0.],\n",
       "       [0., 0., 0., 0., 0.]])"
      ]
     },
     "execution_count": 25,
     "metadata": {},
     "output_type": "execute_result"
    }
   ],
   "source": [
    "zeros"
   ]
  },
  {
   "cell_type": "code",
   "execution_count": 26,
   "id": "ca66e51a",
   "metadata": {},
   "outputs": [
    {
     "data": {
      "text/plain": [
       "numpy.ndarray"
      ]
     },
     "execution_count": 26,
     "metadata": {},
     "output_type": "execute_result"
    }
   ],
   "source": [
    "type(zeros)"
   ]
  },
  {
   "cell_type": "code",
   "execution_count": 27,
   "id": "696f5f2f",
   "metadata": {},
   "outputs": [
    {
     "data": {
      "text/plain": [
       "dtype('float64')"
      ]
     },
     "execution_count": 27,
     "metadata": {},
     "output_type": "execute_result"
    }
   ],
   "source": [
    "zeros.dtype"
   ]
  },
  {
   "cell_type": "markdown",
   "id": "4dfd41e5",
   "metadata": {},
   "source": [
    "The numpy.arange() function is used to generate an array with evenly spaced values within a specified interval.\n",
    "The function returns a one-dimensional array of type numpy.ndarray."
   ]
  },
  {
   "cell_type": "code",
   "execution_count": 28,
   "id": "40e22e4e",
   "metadata": {},
   "outputs": [],
   "source": [
    "a_range=np.arange(1,10)    #its arange function work like range but more faster"
   ]
  },
  {
   "cell_type": "code",
   "execution_count": 29,
   "id": "11d52426",
   "metadata": {},
   "outputs": [
    {
     "data": {
      "text/plain": [
       "array([1, 2, 3, 4, 5, 6, 7, 8, 9])"
      ]
     },
     "execution_count": 29,
     "metadata": {},
     "output_type": "execute_result"
    }
   ],
   "source": [
    "a_range"
   ]
  },
  {
   "cell_type": "code",
   "execution_count": 30,
   "id": "4c00fbb9",
   "metadata": {},
   "outputs": [],
   "source": [
    "a_range=np.arange(10)      "
   ]
  },
  {
   "cell_type": "code",
   "execution_count": 31,
   "id": "4afac7d9",
   "metadata": {},
   "outputs": [
    {
     "data": {
      "text/plain": [
       "array([0, 1, 2, 3, 4, 5, 6, 7, 8, 9])"
      ]
     },
     "execution_count": 31,
     "metadata": {},
     "output_type": "execute_result"
    }
   ],
   "source": [
    "a_range"
   ]
  },
  {
   "cell_type": "markdown",
   "id": "440e6d8b",
   "metadata": {},
   "source": [
    "The NumPy.linspace() function returns an array of evenly spaced values within the specified interval [start, stop].\n",
    "\n",
    "It is similar to NumPy.arange() function but instead of a step, it uses a sample number."
   ]
  },
  {
   "cell_type": "code",
   "execution_count": 75,
   "id": "eba1a8f7",
   "metadata": {},
   "outputs": [],
   "source": [
    "lspace=np.linspace(1,10,5)     # 1 to 10 number print , with 5 space "
   ]
  },
  {
   "cell_type": "code",
   "execution_count": 76,
   "id": "619e066b",
   "metadata": {},
   "outputs": [
    {
     "data": {
      "text/plain": [
       "array([ 1.  ,  3.25,  5.5 ,  7.75, 10.  ])"
      ]
     },
     "execution_count": 76,
     "metadata": {},
     "output_type": "execute_result"
    }
   ],
   "source": [
    "lspace"
   ]
  },
  {
   "cell_type": "code",
   "execution_count": null,
   "id": "4f376317",
   "metadata": {},
   "outputs": [],
   "source": []
  },
  {
   "cell_type": "code",
   "execution_count": 34,
   "id": "f6d96729",
   "metadata": {},
   "outputs": [],
   "source": [
    "lspace=np.linspace(1,5,5)"
   ]
  },
  {
   "cell_type": "code",
   "execution_count": 35,
   "id": "5477a44a",
   "metadata": {},
   "outputs": [
    {
     "data": {
      "text/plain": [
       "array([1., 2., 3., 4., 5.])"
      ]
     },
     "execution_count": 35,
     "metadata": {},
     "output_type": "execute_result"
    }
   ],
   "source": [
    "lspace"
   ]
  },
  {
   "cell_type": "markdown",
   "id": "fb092cf0",
   "metadata": {},
   "source": [
    "numpy.empty(shape, dtype = float, order = ‘C’) : Return a new array of given shape and type, with random values. Parameters "
   ]
  },
  {
   "cell_type": "code",
   "execution_count": 36,
   "id": "f5a41429",
   "metadata": {},
   "outputs": [],
   "source": [
    "emp=np.empty(45)"
   ]
  },
  {
   "cell_type": "code",
   "execution_count": 37,
   "id": "baba6996",
   "metadata": {},
   "outputs": [
    {
     "data": {
      "text/plain": [
       "array([6.79382688e-312, 6.95279840e-310, 6.79382688e-312, 6.95279840e-310,\n",
       "       6.79382688e-312, 6.95279840e-310, 6.79382688e-312, 6.95279840e-310,\n",
       "       6.79382687e-312, 6.95279840e-310, 6.79382687e-312, 6.95279840e-310,\n",
       "       6.79382687e-312, 6.95279840e-310, 6.79382687e-312, 6.95279840e-310,\n",
       "       6.79382687e-312, 6.95279840e-310, 6.79382687e-312, 6.95279840e-310,\n",
       "       6.79382687e-312, 6.95279840e-310, 6.79382687e-312, 6.95279840e-310,\n",
       "       6.79382687e-312, 6.95279840e-310, 6.79382687e-312, 6.95279840e-310,\n",
       "       6.79382687e-312, 6.95279840e-310, 6.79382687e-312, 6.95279840e-310,\n",
       "       6.79382687e-312, 6.95279840e-310, 6.79382687e-312, 6.95279840e-310,\n",
       "       6.79382687e-312, 6.95279840e-310, 6.79382686e-312, 6.95279840e-310,\n",
       "       6.79382687e-312, 6.95279840e-310, 6.79382687e-312, 6.95279840e-310,\n",
       "       6.79372780e-312])"
      ]
     },
     "execution_count": 37,
     "metadata": {},
     "output_type": "execute_result"
    }
   ],
   "source": [
    "emp"
   ]
  },
  {
   "cell_type": "markdown",
   "id": "378e06cf",
   "metadata": {},
   "source": [
    "numpy.empty_like(a, dtype = None, order = ‘K’, subok = True) : Return a new array with the same shape and type as a given array."
   ]
  },
  {
   "cell_type": "code",
   "execution_count": 77,
   "id": "a339aa00",
   "metadata": {},
   "outputs": [],
   "source": [
    "empty_like=np.empty_like(lspace)"
   ]
  },
  {
   "cell_type": "code",
   "execution_count": 78,
   "id": "21c7d6fe",
   "metadata": {},
   "outputs": [
    {
     "data": {
      "text/plain": [
       "array([ 1.  ,  3.25,  5.5 ,  7.75, 10.  ])"
      ]
     },
     "execution_count": 78,
     "metadata": {},
     "output_type": "execute_result"
    }
   ],
   "source": [
    "empty_like"
   ]
  },
  {
   "cell_type": "code",
   "execution_count": null,
   "id": "a591e8e5",
   "metadata": {},
   "outputs": [],
   "source": []
  },
  {
   "cell_type": "code",
   "execution_count": 40,
   "id": "9a94fc0e",
   "metadata": {},
   "outputs": [],
   "source": [
    "arr=np.arange(93)"
   ]
  },
  {
   "cell_type": "code",
   "execution_count": 41,
   "id": "7c14bfbf",
   "metadata": {},
   "outputs": [
    {
     "data": {
      "text/plain": [
       "array([ 0,  1,  2,  3,  4,  5,  6,  7,  8,  9, 10, 11, 12, 13, 14, 15, 16,\n",
       "       17, 18, 19, 20, 21, 22, 23, 24, 25, 26, 27, 28, 29, 30, 31, 32, 33,\n",
       "       34, 35, 36, 37, 38, 39, 40, 41, 42, 43, 44, 45, 46, 47, 48, 49, 50,\n",
       "       51, 52, 53, 54, 55, 56, 57, 58, 59, 60, 61, 62, 63, 64, 65, 66, 67,\n",
       "       68, 69, 70, 71, 72, 73, 74, 75, 76, 77, 78, 79, 80, 81, 82, 83, 84,\n",
       "       85, 86, 87, 88, 89, 90, 91, 92])"
      ]
     },
     "execution_count": 41,
     "metadata": {},
     "output_type": "execute_result"
    }
   ],
   "source": [
    "arr"
   ]
  },
  {
   "cell_type": "raw",
   "id": "49b7ac10",
   "metadata": {},
   "source": [
    "arr=arr.reshape(3,31)  #reshape sathi ex.3*31=93  asan garjech ahe"
   ]
  },
  {
   "cell_type": "code",
   "execution_count": 42,
   "id": "c81ef7e8",
   "metadata": {},
   "outputs": [
    {
     "data": {
      "text/plain": [
       "array([ 0,  1,  2,  3,  4,  5,  6,  7,  8,  9, 10, 11, 12, 13, 14, 15, 16,\n",
       "       17, 18, 19, 20, 21, 22, 23, 24, 25, 26, 27, 28, 29, 30, 31, 32, 33,\n",
       "       34, 35, 36, 37, 38, 39, 40, 41, 42, 43, 44, 45, 46, 47, 48, 49, 50,\n",
       "       51, 52, 53, 54, 55, 56, 57, 58, 59, 60, 61, 62, 63, 64, 65, 66, 67,\n",
       "       68, 69, 70, 71, 72, 73, 74, 75, 76, 77, 78, 79, 80, 81, 82, 83, 84,\n",
       "       85, 86, 87, 88, 89, 90, 91, 92])"
      ]
     },
     "execution_count": 42,
     "metadata": {},
     "output_type": "execute_result"
    }
   ],
   "source": [
    "arr"
   ]
  },
  {
   "cell_type": "code",
   "execution_count": 43,
   "id": "82a77ad9",
   "metadata": {},
   "outputs": [
    {
     "data": {
      "text/plain": [
       "93"
      ]
     },
     "execution_count": 43,
     "metadata": {},
     "output_type": "execute_result"
    }
   ],
   "source": [
    "arr.size"
   ]
  },
  {
   "cell_type": "code",
   "execution_count": 44,
   "id": "d555206a",
   "metadata": {},
   "outputs": [
    {
     "data": {
      "text/plain": [
       "(93,)"
      ]
     },
     "execution_count": 44,
     "metadata": {},
     "output_type": "execute_result"
    }
   ],
   "source": [
    "arr.shape"
   ]
  },
  {
   "cell_type": "code",
   "execution_count": null,
   "id": "52438933",
   "metadata": {},
   "outputs": [],
   "source": []
  },
  {
   "cell_type": "code",
   "execution_count": null,
   "id": "8c7118f4",
   "metadata": {},
   "outputs": [],
   "source": []
  },
  {
   "cell_type": "code",
   "execution_count": 45,
   "id": "76640bff",
   "metadata": {},
   "outputs": [],
   "source": [
    "x=[[1,2,3],[4,5,6],[7,8,9]]"
   ]
  },
  {
   "cell_type": "code",
   "execution_count": 46,
   "id": "781c8761",
   "metadata": {},
   "outputs": [],
   "source": [
    "ar=np.array(x)"
   ]
  },
  {
   "cell_type": "code",
   "execution_count": 47,
   "id": "178cf936",
   "metadata": {},
   "outputs": [
    {
     "data": {
      "text/plain": [
       "array([[1, 2, 3],\n",
       "       [4, 5, 6],\n",
       "       [7, 8, 9]])"
      ]
     },
     "execution_count": 47,
     "metadata": {},
     "output_type": "execute_result"
    }
   ],
   "source": [
    "ar"
   ]
  },
  {
   "cell_type": "code",
   "execution_count": 48,
   "id": "8077c53b",
   "metadata": {},
   "outputs": [
    {
     "data": {
      "text/plain": [
       "array([12, 15, 18])"
      ]
     },
     "execution_count": 48,
     "metadata": {},
     "output_type": "execute_result"
    }
   ],
   "source": [
    "ar.sum(axis=0)"
   ]
  },
  {
   "cell_type": "code",
   "execution_count": 49,
   "id": "a5d60434",
   "metadata": {},
   "outputs": [
    {
     "data": {
      "text/plain": [
       "array([[1, 4, 7],\n",
       "       [2, 5, 8],\n",
       "       [3, 6, 9]])"
      ]
     },
     "execution_count": 49,
     "metadata": {},
     "output_type": "execute_result"
    }
   ],
   "source": [
    "ar.T"
   ]
  },
  {
   "cell_type": "code",
   "execution_count": 50,
   "id": "527f788c",
   "metadata": {},
   "outputs": [
    {
     "data": {
      "text/plain": [
       "<numpy.flatiter at 0x14028c14580>"
      ]
     },
     "execution_count": 50,
     "metadata": {},
     "output_type": "execute_result"
    }
   ],
   "source": [
    "ar.flat"
   ]
  },
  {
   "cell_type": "code",
   "execution_count": null,
   "id": "f091668f",
   "metadata": {},
   "outputs": [],
   "source": [
    "\n"
   ]
  },
  {
   "cell_type": "code",
   "execution_count": 51,
   "id": "e7ac8ba8",
   "metadata": {},
   "outputs": [
    {
     "name": "stdout",
     "output_type": "stream",
     "text": [
      "1\n",
      "2\n",
      "3\n",
      "4\n",
      "5\n",
      "6\n",
      "7\n",
      "8\n",
      "9\n"
     ]
    }
   ],
   "source": [
    "for item in ar.flat:\n",
    "    print(item)"
   ]
  },
  {
   "cell_type": "code",
   "execution_count": null,
   "id": "354d7a68",
   "metadata": {},
   "outputs": [],
   "source": []
  },
  {
   "cell_type": "markdown",
   "id": "a116ac57",
   "metadata": {},
   "source": [
    "# SLICING"
   ]
  },
  {
   "cell_type": "code",
   "execution_count": null,
   "id": "80c1cd29",
   "metadata": {},
   "outputs": [],
   "source": []
  },
  {
   "cell_type": "code",
   "execution_count": 52,
   "id": "ed434fac",
   "metadata": {},
   "outputs": [],
   "source": [
    "import numpy as np"
   ]
  },
  {
   "cell_type": "code",
   "execution_count": 53,
   "id": "5e1110cf",
   "metadata": {},
   "outputs": [
    {
     "data": {
      "text/plain": [
       "array([92, 91, 90, 89, 88, 87, 86, 85, 84, 83, 82, 81, 80, 79, 78, 77, 76,\n",
       "       75, 74, 73, 72, 71, 70, 69, 68, 67, 66, 65, 64, 63, 62, 61, 60, 59,\n",
       "       58, 57, 56, 55, 54, 53, 52, 51, 50, 49, 48, 47, 46, 45, 44, 43, 42,\n",
       "       41, 40, 39, 38, 37, 36, 35, 34, 33, 32, 31, 30, 29, 28, 27, 26, 25,\n",
       "       24, 23, 22, 21, 20, 19, 18, 17, 16, 15, 14, 13, 12, 11, 10,  9,  8,\n",
       "        7,  6,  5,  4,  3,  2,  1,  0])"
      ]
     },
     "execution_count": 53,
     "metadata": {},
     "output_type": "execute_result"
    }
   ],
   "source": [
    "arr[::-1]"
   ]
  },
  {
   "cell_type": "code",
   "execution_count": 54,
   "id": "1bdcd399",
   "metadata": {},
   "outputs": [
    {
     "data": {
      "text/plain": [
       "array([ 0,  1,  2,  3,  4,  5,  6,  7,  8,  9, 10, 11, 12, 13, 14, 15, 16,\n",
       "       17, 18, 19, 20, 21, 22, 23, 24, 25, 26, 27, 28, 29, 30, 31, 32, 33,\n",
       "       34, 35, 36, 37, 38, 39, 40, 41, 42, 43, 44, 45, 46, 47, 48, 49, 50,\n",
       "       51, 52, 53, 54, 55, 56, 57, 58, 59, 60, 61, 62, 63, 64, 65, 66, 67,\n",
       "       68, 69, 70, 71, 72, 73, 74, 75, 76, 77, 78, 79, 80, 81, 82, 83, 84,\n",
       "       85, 86, 87, 88, 89, 90, 91, 92])"
      ]
     },
     "execution_count": 54,
     "metadata": {},
     "output_type": "execute_result"
    }
   ],
   "source": [
    "arr"
   ]
  },
  {
   "cell_type": "code",
   "execution_count": 55,
   "id": "97cd1ca1",
   "metadata": {},
   "outputs": [
    {
     "data": {
      "text/plain": [
       "array([1, 2, 3, 4])"
      ]
     },
     "execution_count": 55,
     "metadata": {},
     "output_type": "execute_result"
    }
   ],
   "source": [
    "arr[1:5]                                           # [start:end]"
   ]
  },
  {
   "cell_type": "code",
   "execution_count": null,
   "id": "225df24d",
   "metadata": {},
   "outputs": [],
   "source": []
  },
  {
   "cell_type": "code",
   "execution_count": 56,
   "id": "d7264c10",
   "metadata": {},
   "outputs": [
    {
     "data": {
      "text/plain": [
       "array([92, 91, 90, 89, 88, 87, 86, 85, 84, 83, 82, 81, 80, 79, 78, 77, 76,\n",
       "       75, 74, 73, 72, 71, 70, 69, 68, 67, 66, 65, 64, 63, 62, 61, 60, 59,\n",
       "       58, 57, 56, 55, 54, 53, 52, 51, 50, 49, 48, 47, 46, 45, 44, 43, 42,\n",
       "       41, 40, 39, 38, 37, 36, 35, 34, 33, 32, 31, 30, 29, 28, 27, 26, 25,\n",
       "       24, 23, 22, 21, 20, 19, 18, 17, 16, 15, 14, 13, 12, 11, 10,  9,  8,\n",
       "        7,  6,  5,  4,  3,  2,  1,  0])"
      ]
     },
     "execution_count": 56,
     "metadata": {},
     "output_type": "execute_result"
    }
   ],
   "source": [
    "arr[::-1]"
   ]
  },
  {
   "cell_type": "code",
   "execution_count": 57,
   "id": "7045aeaf",
   "metadata": {},
   "outputs": [],
   "source": [
    "arr=np.array([1,2,3,4,5,6,7,8])"
   ]
  },
  {
   "cell_type": "code",
   "execution_count": 58,
   "id": "34fd9793",
   "metadata": {},
   "outputs": [
    {
     "data": {
      "text/plain": [
       "array([1, 3])"
      ]
     },
     "execution_count": 58,
     "metadata": {},
     "output_type": "execute_result"
    }
   ],
   "source": [
    "arr[  0     :  4     :2]     #   [start :end :steps]\n",
    "\n",
    "#   start  :  end   :step"
   ]
  },
  {
   "cell_type": "code",
   "execution_count": null,
   "id": "ff11c211",
   "metadata": {},
   "outputs": [],
   "source": []
  },
  {
   "cell_type": "code",
   "execution_count": null,
   "id": "a1752e24",
   "metadata": {},
   "outputs": [],
   "source": []
  },
  {
   "cell_type": "code",
   "execution_count": null,
   "id": "dddc55fb",
   "metadata": {},
   "outputs": [],
   "source": []
  },
  {
   "cell_type": "code",
   "execution_count": null,
   "id": "3c00a5b1",
   "metadata": {},
   "outputs": [],
   "source": []
  },
  {
   "cell_type": "code",
   "execution_count": null,
   "id": "ada92ee0",
   "metadata": {},
   "outputs": [],
   "source": []
  },
  {
   "cell_type": "code",
   "execution_count": null,
   "id": "6d048632",
   "metadata": {},
   "outputs": [],
   "source": []
  },
  {
   "cell_type": "code",
   "execution_count": null,
   "id": "d226ba03",
   "metadata": {},
   "outputs": [],
   "source": []
  },
  {
   "cell_type": "code",
   "execution_count": null,
   "id": "6548518e",
   "metadata": {},
   "outputs": [],
   "source": []
  },
  {
   "cell_type": "code",
   "execution_count": null,
   "id": "22d647fa",
   "metadata": {},
   "outputs": [],
   "source": []
  },
  {
   "cell_type": "code",
   "execution_count": 59,
   "id": "90b07284",
   "metadata": {},
   "outputs": [],
   "source": [
    "import numpy as np"
   ]
  },
  {
   "cell_type": "code",
   "execution_count": 60,
   "id": "9dbd1f5c",
   "metadata": {},
   "outputs": [
    {
     "name": "stdout",
     "output_type": "stream",
     "text": [
      "[ 1  2  3  4  5  6  7  8  9 10 11 12]\n"
     ]
    }
   ],
   "source": [
    "arr = np.array([[1, 2, 3, 4, 5, 6], [7, 8, 9, 10, 11, 12]])\n",
    "print(arr.reshape(-1))"
   ]
  },
  {
   "cell_type": "raw",
   "id": "37b6000c",
   "metadata": {},
   "source": []
  },
  {
   "cell_type": "markdown",
   "id": "24e5f06d",
   "metadata": {},
   "source": [
    "sorting in numpy"
   ]
  },
  {
   "cell_type": "markdown",
   "id": "fe79e3ac",
   "metadata": {},
   "source": [
    "puting element in ordered sequence"
   ]
  },
  {
   "cell_type": "code",
   "execution_count": 61,
   "id": "b735cc0f",
   "metadata": {},
   "outputs": [],
   "source": [
    "import numpy as np \n"
   ]
  },
  {
   "cell_type": "code",
   "execution_count": 62,
   "id": "680a38cf",
   "metadata": {},
   "outputs": [
    {
     "name": "stdout",
     "output_type": "stream",
     "text": [
      "[1 1 1 1 2 2 3 4 5 5 5 7 9]\n"
     ]
    }
   ],
   "source": [
    "arr=[2,1,3,5,1,5,7,9,4,1,2,5,1]\n",
    "print(np.sort(arr))"
   ]
  },
  {
   "cell_type": "code",
   "execution_count": null,
   "id": "4e30f324",
   "metadata": {},
   "outputs": [],
   "source": []
  },
  {
   "cell_type": "markdown",
   "id": "84148a33",
   "metadata": {},
   "source": [
    "you can sort string data type"
   ]
  },
  {
   "cell_type": "code",
   "execution_count": 63,
   "id": "d5d04d16",
   "metadata": {},
   "outputs": [
    {
     "name": "stdout",
     "output_type": "stream",
     "text": [
      "['abhijeet' 'ajay' 'akash' 'akshada' 'anushka' 'swapnil' 'venktesh']\n"
     ]
    }
   ],
   "source": [
    "st=[\"akash\",\"abhijeet\",\"akshada\",\"venktesh\",\"anushka\",\"ajay\",\"swapnil\"]\n",
    "print(np.sort(st))"
   ]
  },
  {
   "cell_type": "code",
   "execution_count": null,
   "id": "4275a77a",
   "metadata": {},
   "outputs": [],
   "source": []
  },
  {
   "cell_type": "code",
   "execution_count": null,
   "id": "a2e80151",
   "metadata": {},
   "outputs": [],
   "source": []
  },
  {
   "cell_type": "code",
   "execution_count": null,
   "id": "9e35a68c",
   "metadata": {},
   "outputs": [],
   "source": []
  },
  {
   "cell_type": "markdown",
   "id": "81ead55e",
   "metadata": {},
   "source": [
    "filter array "
   ]
  },
  {
   "cell_type": "code",
   "execution_count": null,
   "id": "8bd65500",
   "metadata": {},
   "outputs": [],
   "source": []
  },
  {
   "cell_type": "code",
   "execution_count": 64,
   "id": "8d864233",
   "metadata": {},
   "outputs": [],
   "source": [
    "new_array=np.array([1,2,3,4])\n"
   ]
  },
  {
   "cell_type": "code",
   "execution_count": 65,
   "id": "08aabfc4",
   "metadata": {},
   "outputs": [
    {
     "data": {
      "text/plain": [
       "array([1, 2, 3, 4])"
      ]
     },
     "execution_count": 65,
     "metadata": {},
     "output_type": "execute_result"
    }
   ],
   "source": [
    "new_array"
   ]
  },
  {
   "cell_type": "code",
   "execution_count": 66,
   "id": "5a3f9cce",
   "metadata": {},
   "outputs": [],
   "source": [
    "x=[True,False,True,False]"
   ]
  },
  {
   "cell_type": "code",
   "execution_count": 67,
   "id": "01dd0311",
   "metadata": {},
   "outputs": [],
   "source": [
    "new_filtered_array=new_array[x]"
   ]
  },
  {
   "cell_type": "code",
   "execution_count": 68,
   "id": "a600249e",
   "metadata": {},
   "outputs": [
    {
     "data": {
      "text/plain": [
       "array([1, 3])"
      ]
     },
     "execution_count": 68,
     "metadata": {},
     "output_type": "execute_result"
    }
   ],
   "source": [
    "new_filtered_array"
   ]
  },
  {
   "cell_type": "code",
   "execution_count": null,
   "id": "618bfcf4",
   "metadata": {},
   "outputs": [],
   "source": []
  },
  {
   "cell_type": "code",
   "execution_count": null,
   "id": "a93f3e52",
   "metadata": {},
   "outputs": [],
   "source": []
  },
  {
   "cell_type": "markdown",
   "id": "c483519f",
   "metadata": {},
   "source": [
    "gererate randon integer element"
   ]
  },
  {
   "cell_type": "code",
   "execution_count": 69,
   "id": "ba38bf56",
   "metadata": {},
   "outputs": [],
   "source": [
    "from numpy import random\n"
   ]
  },
  {
   "cell_type": "code",
   "execution_count": 70,
   "id": "0d6849b1",
   "metadata": {},
   "outputs": [],
   "source": [
    "#for generate random integer element use randint function"
   ]
  },
  {
   "cell_type": "code",
   "execution_count": 71,
   "id": "f876263e",
   "metadata": {},
   "outputs": [],
   "source": [
    "x=random.randint(100,size=(5))"
   ]
  },
  {
   "cell_type": "code",
   "execution_count": 72,
   "id": "a484d0d8",
   "metadata": {},
   "outputs": [
    {
     "name": "stdout",
     "output_type": "stream",
     "text": [
      "[60 37  9 58 13]\n"
     ]
    }
   ],
   "source": [
    "print(x)"
   ]
  },
  {
   "cell_type": "code",
   "execution_count": 73,
   "id": "8cd5e982",
   "metadata": {},
   "outputs": [],
   "source": [
    "#for generate random float element use rand function \n"
   ]
  },
  {
   "cell_type": "code",
   "execution_count": 82,
   "id": "bc6aeef9",
   "metadata": {},
   "outputs": [],
   "source": [
    "float_random_element=random.rand(100)"
   ]
  },
  {
   "cell_type": "code",
   "execution_count": 83,
   "id": "d7fd3be9",
   "metadata": {},
   "outputs": [
    {
     "data": {
      "text/plain": [
       "array([0.17096021, 0.14454026, 0.88749502, 0.63141294, 0.94009055,\n",
       "       0.17017138, 0.63406335, 0.21220251, 0.4730018 , 0.69514265,\n",
       "       0.54117615, 0.73878672, 0.17252656, 0.19920128, 0.61861789,\n",
       "       0.70157189, 0.01237861, 0.15149812, 0.68673661, 0.76390003,\n",
       "       0.10229937, 0.45550957, 0.42718904, 0.58513791, 0.08077365,\n",
       "       0.22638769, 0.06236392, 0.85622891, 0.13749553, 0.29424317,\n",
       "       0.81428915, 0.4464455 , 0.79904301, 0.87515765, 0.88494463,\n",
       "       0.38326647, 0.30420765, 0.45655427, 0.76449899, 0.30225343,\n",
       "       0.21301483, 0.50059155, 0.31888101, 0.4371441 , 0.70109469,\n",
       "       0.94960551, 0.15153524, 0.94499542, 0.56110545, 0.18792879,\n",
       "       0.69876908, 0.23889121, 0.93319816, 0.68113592, 0.28668346,\n",
       "       0.48360207, 0.01308639, 0.05144205, 0.77466044, 0.87261176,\n",
       "       0.38270114, 0.84730413, 0.96057226, 0.30362748, 0.53374909,\n",
       "       0.67855943, 0.6066019 , 0.29919049, 0.34389189, 0.31730759,\n",
       "       0.58802311, 0.280327  , 0.4333668 , 0.31201027, 0.8612246 ,\n",
       "       0.45933295, 0.58968061, 0.09018822, 0.46735974, 0.72159539,\n",
       "       0.94750026, 0.83754153, 0.86459992, 0.67928636, 0.28900954,\n",
       "       0.6305799 , 0.71378548, 0.08989142, 0.17058756, 0.7219833 ,\n",
       "       0.56771655, 0.81093489, 0.77506874, 0.7731778 , 0.06148102,\n",
       "       0.2868073 , 0.96027616, 0.23020874, 0.70501659, 0.85957237])"
      ]
     },
     "execution_count": 83,
     "metadata": {},
     "output_type": "execute_result"
    }
   ],
   "source": [
    "float_random_element"
   ]
  },
  {
   "cell_type": "code",
   "execution_count": null,
   "id": "baa2cb11",
   "metadata": {},
   "outputs": [],
   "source": [
    "#create 2-d array using numpy random functio"
   ]
  },
  {
   "cell_type": "code",
   "execution_count": null,
   "id": "4f3acc71",
   "metadata": {},
   "outputs": [],
   "source": [
    "from numpy import random"
   ]
  },
  {
   "cell_type": "code",
   "execution_count": null,
   "id": "5aaff93b",
   "metadata": {},
   "outputs": [],
   "source": [
    "two_d_array=random.randint(100,size=(5,6))"
   ]
  },
  {
   "cell_type": "code",
   "execution_count": null,
   "id": "cd9332cc",
   "metadata": {},
   "outputs": [],
   "source": [
    "two_d_array"
   ]
  },
  {
   "cell_type": "code",
   "execution_count": null,
   "id": "ea8531bc",
   "metadata": {},
   "outputs": [],
   "source": [
    "np.sort(two_d_array)"
   ]
  },
  {
   "cell_type": "code",
   "execution_count": null,
   "id": "95af21b0",
   "metadata": {},
   "outputs": [],
   "source": []
  },
  {
   "cell_type": "markdown",
   "id": "8ad31593",
   "metadata": {},
   "source": [
    "choice () method"
   ]
  },
  {
   "cell_type": "code",
   "execution_count": null,
   "id": "59aeb999",
   "metadata": {},
   "outputs": [],
   "source": []
  },
  {
   "cell_type": "code",
   "execution_count": null,
   "id": "8f8f28ba",
   "metadata": {},
   "outputs": [],
   "source": [
    "#the choice method allows you to choose random value from your array"
   ]
  },
  {
   "cell_type": "code",
   "execution_count": null,
   "id": "222879cf",
   "metadata": {},
   "outputs": [],
   "source": [
    "from numpy import random "
   ]
  },
  {
   "cell_type": "code",
   "execution_count": null,
   "id": "1316526f",
   "metadata": {},
   "outputs": [],
   "source": [
    "choose_random=random.choice([2,3,4,5,6,7])"
   ]
  },
  {
   "cell_type": "code",
   "execution_count": null,
   "id": "392337e2",
   "metadata": {},
   "outputs": [],
   "source": [
    "choose_random"
   ]
  },
  {
   "cell_type": "code",
   "execution_count": null,
   "id": "5fda7c06",
   "metadata": {},
   "outputs": [],
   "source": [
    "choose_random"
   ]
  },
  {
   "cell_type": "code",
   "execution_count": null,
   "id": "2c388361",
   "metadata": {},
   "outputs": [],
   "source": [
    "choose_random"
   ]
  },
  {
   "cell_type": "code",
   "execution_count": null,
   "id": "349f7f88",
   "metadata": {},
   "outputs": [],
   "source": [
    "#mixture of choice() and size() method."
   ]
  },
  {
   "cell_type": "code",
   "execution_count": null,
   "id": "6f016069",
   "metadata": {},
   "outputs": [],
   "source": [
    "x=random.choice([1,3,4,6,8,9] , size=(3,4))"
   ]
  },
  {
   "cell_type": "code",
   "execution_count": null,
   "id": "4f4fa0f0",
   "metadata": {},
   "outputs": [],
   "source": [
    "x"
   ]
  },
  {
   "cell_type": "code",
   "execution_count": null,
   "id": "3d68bb73",
   "metadata": {},
   "outputs": [],
   "source": [
    "print(np.sort(x))    #here i just sort random choose "
   ]
  },
  {
   "cell_type": "code",
   "execution_count": null,
   "id": "7f277437",
   "metadata": {},
   "outputs": [],
   "source": []
  },
  {
   "cell_type": "code",
   "execution_count": null,
   "id": "97334d83",
   "metadata": {},
   "outputs": [],
   "source": [
    "\n"
   ]
  },
  {
   "cell_type": "code",
   "execution_count": null,
   "id": "8ec9b634",
   "metadata": {},
   "outputs": [],
   "source": []
  },
  {
   "cell_type": "markdown",
   "id": "97c4964e",
   "metadata": {},
   "source": [
    "# Data Science Batch "
   ]
  },
  {
   "cell_type": "code",
   "execution_count": null,
   "id": "84935747",
   "metadata": {},
   "outputs": [],
   "source": [
    "# Numpy arrays "
   ]
  },
  {
   "cell_type": "code",
   "execution_count": null,
   "id": "a89c0b93",
   "metadata": {},
   "outputs": [],
   "source": [
    "#homogeneous -- its have same data type\n",
    "#hetrogeneous --- its have different data type \n",
    "\n",
    "#numpy is homogeneous"
   ]
  },
  {
   "cell_type": "code",
   "execution_count": null,
   "id": "c8dabf95",
   "metadata": {},
   "outputs": [],
   "source": [
    "import numpy as np"
   ]
  },
  {
   "cell_type": "code",
   "execution_count": null,
   "id": "d7d54683",
   "metadata": {},
   "outputs": [],
   "source": [
    " a=np.array([[2,5,3],[2,5,9]])"
   ]
  },
  {
   "cell_type": "code",
   "execution_count": null,
   "id": "d607034c",
   "metadata": {},
   "outputs": [],
   "source": [
    "print(a.shape)"
   ]
  },
  {
   "cell_type": "code",
   "execution_count": null,
   "id": "cd832e63",
   "metadata": {},
   "outputs": [],
   "source": [
    "print(a.size)"
   ]
  },
  {
   "cell_type": "code",
   "execution_count": null,
   "id": "485a12b0",
   "metadata": {},
   "outputs": [],
   "source": [
    "print(a.ndim)"
   ]
  },
  {
   "cell_type": "code",
   "execution_count": null,
   "id": "16e30015",
   "metadata": {},
   "outputs": [],
   "source": [
    "arr=np.array([[2,2],[2,2]])"
   ]
  },
  {
   "cell_type": "code",
   "execution_count": null,
   "id": "a1e5afc2",
   "metadata": {},
   "outputs": [],
   "source": [
    "arr.shape"
   ]
  },
  {
   "cell_type": "code",
   "execution_count": null,
   "id": "d1fa9070",
   "metadata": {},
   "outputs": [],
   "source": [
    "arr"
   ]
  },
  {
   "cell_type": "code",
   "execution_count": null,
   "id": "70e2ccd5",
   "metadata": {},
   "outputs": [],
   "source": []
  },
  {
   "cell_type": "code",
   "execution_count": null,
   "id": "870c5eb4",
   "metadata": {},
   "outputs": [],
   "source": [
    "arr=np.array([[2,2,3],[2,2,3],[1,2,3]])"
   ]
  },
  {
   "cell_type": "code",
   "execution_count": null,
   "id": "2142c021",
   "metadata": {},
   "outputs": [],
   "source": [
    "arr.shape"
   ]
  },
  {
   "cell_type": "code",
   "execution_count": null,
   "id": "3c175a69",
   "metadata": {},
   "outputs": [],
   "source": [
    "print(arr)"
   ]
  },
  {
   "cell_type": "code",
   "execution_count": null,
   "id": "2adeef02",
   "metadata": {},
   "outputs": [],
   "source": [
    "arr.ndim"
   ]
  },
  {
   "cell_type": "code",
   "execution_count": null,
   "id": "a87a6115",
   "metadata": {},
   "outputs": [],
   "source": [
    "#3 dimention array\n",
    "\n",
    "arr=np.array([[[1,2],[1,2]],[[1,2],[1,2]]])"
   ]
  },
  {
   "cell_type": "code",
   "execution_count": null,
   "id": "d7d0a520",
   "metadata": {},
   "outputs": [],
   "source": [
    "arr.shape"
   ]
  },
  {
   "cell_type": "code",
   "execution_count": null,
   "id": "9ea9d8af",
   "metadata": {},
   "outputs": [],
   "source": [
    "arr"
   ]
  },
  {
   "cell_type": "code",
   "execution_count": null,
   "id": "d5d55d9d",
   "metadata": {},
   "outputs": [],
   "source": [
    "arr=np.array([[[1,2,3],[1,2,3]],[[1,2,3],[1,2,3]],[[1,2,3],[1,2,3]]])"
   ]
  },
  {
   "cell_type": "code",
   "execution_count": null,
   "id": "bc7641c3",
   "metadata": {},
   "outputs": [],
   "source": [
    "arr.shape"
   ]
  },
  {
   "cell_type": "code",
   "execution_count": null,
   "id": "0c349ac4",
   "metadata": {},
   "outputs": [],
   "source": [
    "arr=np.array([[[11,22,13],[31,52,23]],[[61,22,83],[91,22,13]],[[13,24,32],[17,21,36]]])"
   ]
  },
  {
   "cell_type": "code",
   "execution_count": null,
   "id": "e2e44884",
   "metadata": {},
   "outputs": [],
   "source": [
    "print(arr)"
   ]
  },
  {
   "cell_type": "code",
   "execution_count": null,
   "id": "5158790f",
   "metadata": {},
   "outputs": [],
   "source": [
    "arr.ndim"
   ]
  },
  {
   "cell_type": "code",
   "execution_count": null,
   "id": "8d8af652",
   "metadata": {},
   "outputs": [],
   "source": [
    "lst=[3,4,5,6]\n",
    "a=np.array(lst)\n",
    "print(a) "
   ]
  },
  {
   "cell_type": "code",
   "execution_count": null,
   "id": "160420fd",
   "metadata": {},
   "outputs": [],
   "source": [
    "lst=[3,4,\"hello\",(5,6)]\n",
    "a=np.array(lst,dtype='object')\n",
    "print(a) "
   ]
  },
  {
   "cell_type": "code",
   "execution_count": null,
   "id": "2b6b78be",
   "metadata": {},
   "outputs": [],
   "source": [
    "a=np.array([[1,2],[9]])\n",
    "print(type(a),a)"
   ]
  },
  {
   "cell_type": "code",
   "execution_count": null,
   "id": "272e210e",
   "metadata": {},
   "outputs": [],
   "source": []
  },
  {
   "cell_type": "code",
   "execution_count": null,
   "id": "43716527",
   "metadata": {},
   "outputs": [],
   "source": [
    "conda update jupyter"
   ]
  },
  {
   "cell_type": "code",
   "execution_count": null,
   "id": "17f1d19f",
   "metadata": {},
   "outputs": [],
   "source": [
    "import numpy as np\n",
    "a=np.ones((5,5))\n",
    "print(a)"
   ]
  },
  {
   "cell_type": "code",
   "execution_count": null,
   "id": "04ba832d",
   "metadata": {},
   "outputs": [],
   "source": [
    "a=np.full((5,2),9)\n",
    "print(a)"
   ]
  },
  {
   "cell_type": "code",
   "execution_count": null,
   "id": "c866f48e",
   "metadata": {},
   "outputs": [],
   "source": [
    "a=np.eye((1),(4),k=2)\n",
    "a"
   ]
  },
  {
   "cell_type": "code",
   "execution_count": null,
   "id": "33f677ec",
   "metadata": {},
   "outputs": [],
   "source": [
    "arr=np.array([[[11,22,13],[31,52,23]],[[61,22,83],[91,22,13]],[[13,24,32],[17,21,36]]])\n",
    "print(arr)"
   ]
  },
  {
   "cell_type": "code",
   "execution_count": null,
   "id": "7ed461d6",
   "metadata": {},
   "outputs": [],
   "source": [
    "arr[0][1][1]     #indexing"
   ]
  },
  {
   "cell_type": "code",
   "execution_count": null,
   "id": "6be579fb",
   "metadata": {},
   "outputs": [],
   "source": [
    "#slicing\n",
    "\n",
    "arr[:,0,1]"
   ]
  },
  {
   "cell_type": "code",
   "execution_count": null,
   "id": "104626b5",
   "metadata": {},
   "outputs": [],
   "source": [
    "e=np.random.randint((1,5))\n"
   ]
  },
  {
   "cell_type": "code",
   "execution_count": null,
   "id": "8f98e1e5",
   "metadata": {},
   "outputs": [],
   "source": [
    "e"
   ]
  },
  {
   "cell_type": "code",
   "execution_count": null,
   "id": "b2098524",
   "metadata": {},
   "outputs": [],
   "source": [
    "e"
   ]
  },
  {
   "cell_type": "code",
   "execution_count": null,
   "id": "b3fe7f1f",
   "metadata": {},
   "outputs": [],
   "source": [
    "e"
   ]
  },
  {
   "cell_type": "code",
   "execution_count": null,
   "id": "365f77e4",
   "metadata": {},
   "outputs": [],
   "source": [
    "a=np.array([[1,2,3,9],[4,5,6,3],[9,0,9,8]])"
   ]
  },
  {
   "cell_type": "code",
   "execution_count": null,
   "id": "ef56618e",
   "metadata": {},
   "outputs": [],
   "source": [
    "b=a[:2,1:3]"
   ]
  },
  {
   "cell_type": "code",
   "execution_count": null,
   "id": "2b1aa8a8",
   "metadata": {},
   "outputs": [],
   "source": [
    "b"
   ]
  },
  {
   "cell_type": "code",
   "execution_count": null,
   "id": "bfb9fe75",
   "metadata": {},
   "outputs": [],
   "source": [
    "print(a[0:1])"
   ]
  },
  {
   "cell_type": "code",
   "execution_count": null,
   "id": "efb381fa",
   "metadata": {},
   "outputs": [],
   "source": [
    "b[0,0]=9"
   ]
  },
  {
   "cell_type": "code",
   "execution_count": null,
   "id": "da8cae20",
   "metadata": {},
   "outputs": [],
   "source": [
    "b"
   ]
  },
  {
   "cell_type": "code",
   "execution_count": null,
   "id": "d1b3e542",
   "metadata": {},
   "outputs": [],
   "source": [
    "a"
   ]
  },
  {
   "cell_type": "code",
   "execution_count": null,
   "id": "6295157d",
   "metadata": {},
   "outputs": [],
   "source": [
    "row_1=arr[1,:]\n",
    "row_2=arr[1:2,:]\n",
    "print(row_1.shape,row_1)\n",
    "print(row_2.shape,row_2)"
   ]
  },
  {
   "cell_type": "code",
   "execution_count": null,
   "id": "4ddaf0ad",
   "metadata": {},
   "outputs": [],
   "source": [
    "a=np.array([[1,2],[3,4],[5,6]])"
   ]
  },
  {
   "cell_type": "code",
   "execution_count": null,
   "id": "c8deed3b",
   "metadata": {},
   "outputs": [],
   "source": [
    "print(a[[0,1,2],[0,1,0]])\n",
    "print(np.array([a[0,0],a[1,1],a[2,0]]))\n",
    "print(a[[0,0],[1,1]])"
   ]
  },
  {
   "cell_type": "code",
   "execution_count": null,
   "id": "8814c1d8",
   "metadata": {},
   "outputs": [],
   "source": [
    "a = np.array([[1,2,3],[4,5,6],[7,8,9],[10,11,12]])\n",
    "b = np.array([0,2,0,1])\n",
    "a[np.arange(4),b] +=10\n",
    "print(a)"
   ]
  },
  {
   "cell_type": "code",
   "execution_count": null,
   "id": "e773a6be",
   "metadata": {},
   "outputs": [],
   "source": [
    "a.shape"
   ]
  },
  {
   "cell_type": "code",
   "execution_count": null,
   "id": "01c47b44",
   "metadata": {},
   "outputs": [],
   "source": [
    "a[[0,1,2,3],[0,2,0,1]]    #indexing "
   ]
  },
  {
   "cell_type": "code",
   "execution_count": null,
   "id": "2a9da875",
   "metadata": {},
   "outputs": [],
   "source": [
    "a"
   ]
  },
  {
   "cell_type": "code",
   "execution_count": null,
   "id": "272ca237",
   "metadata": {},
   "outputs": [],
   "source": [
    "print(a[0][0],a[1][2],a[2][0],a[3][1])"
   ]
  },
  {
   "cell_type": "code",
   "execution_count": null,
   "id": "04136e06",
   "metadata": {},
   "outputs": [],
   "source": [
    " a=np.array([[1,2],[3,4],[5,6]])\n",
    "bool_idx=(a>2)\n",
    "print(a[bool_idx])\n",
    "print(bool_idx)"
   ]
  },
  {
   "cell_type": "code",
   "execution_count": null,
   "id": "89960423",
   "metadata": {},
   "outputs": [],
   "source": [
    "x=np.array([1,2],'int64')\n",
    "print(x.dtype)\n",
    "print(x)"
   ]
  },
  {
   "cell_type": "code",
   "execution_count": null,
   "id": "eddb369a",
   "metadata": {},
   "outputs": [],
   "source": [
    "x=np.array([1.9,2.9],'float32')\n",
    "print(x.dtype)\n",
    "print(x)"
   ]
  },
  {
   "cell_type": "code",
   "execution_count": null,
   "id": "b4409807",
   "metadata": {},
   "outputs": [],
   "source": [
    "x=np.array([1j,2j])# complex number must have i or j example===(1j) or (1i)\n",
    "print(x.dtype)            \n",
    "                            #compex array cant convert into integer or float  \n",
    "print(x)"
   ]
  },
  {
   "cell_type": "code",
   "execution_count": null,
   "id": "5b88ff4d",
   "metadata": {},
   "outputs": [],
   "source": [
    "x=np.array([1.9,2.9],'complex128')    # float can convert comlex or integer\n",
    "print(x.dtype)\n",
    "print(x)"
   ]
  },
  {
   "cell_type": "code",
   "execution_count": null,
   "id": "32ae5ea9",
   "metadata": {},
   "outputs": [],
   "source": [
    "x=np.array([1,2],'complex')                 #integer and float both are flexible they can conver ito another type \n",
    "                                              \n",
    "print(x.dtype)\n",
    "print(x)"
   ]
  },
  {
   "cell_type": "code",
   "execution_count": null,
   "id": "b6de46f3",
   "metadata": {},
   "outputs": [],
   "source": [
    "x=np.array([1,2.3,2j])                 #complex values use with another data type then all array makes automatically complex\n",
    "print(x.dtype)\n",
    "print(x)"
   ]
  },
  {
   "cell_type": "code",
   "execution_count": null,
   "id": "82fab5c4",
   "metadata": {},
   "outputs": [],
   "source": []
  },
  {
   "cell_type": "code",
   "execution_count": null,
   "id": "ade28e2a",
   "metadata": {},
   "outputs": [],
   "source": [
    "a=np.arange(6)\n",
    "a2=a[:,np.newaxis]\n",
    "print(a.shape)\n",
    "print(a2.shape,a2)\n"
   ]
  },
  {
   "cell_type": "code",
   "execution_count": null,
   "id": "ed24251d",
   "metadata": {},
   "outputs": [],
   "source": [
    "print(a)"
   ]
  },
  {
   "cell_type": "code",
   "execution_count": null,
   "id": "71ec0fa2",
   "metadata": {},
   "outputs": [],
   "source": [
    "print(a2)"
   ]
  },
  {
   "cell_type": "code",
   "execution_count": null,
   "id": "880a3058",
   "metadata": {},
   "outputs": [],
   "source": [
    "a=np.arange(6)\n",
    "a2=a[np.newaxis,:]       #newxis just add a dimension in array\n",
    "print(a.shape)\n",
    "print(a2.shape,a2)\n"
   ]
  },
  {
   "cell_type": "code",
   "execution_count": null,
   "id": "3f25162f",
   "metadata": {},
   "outputs": [],
   "source": [
    "a2.ndim"
   ]
  },
  {
   "cell_type": "code",
   "execution_count": null,
   "id": "350a7206",
   "metadata": {},
   "outputs": [],
   "source": [
    "a.ndim"
   ]
  },
  {
   "cell_type": "code",
   "execution_count": null,
   "id": "cf39e5fe",
   "metadata": {},
   "outputs": [],
   "source": [
    "np.ones(2)                           #it is print one  "
   ]
  },
  {
   "cell_type": "code",
   "execution_count": null,
   "id": "afac9af1",
   "metadata": {},
   "outputs": [],
   "source": [
    "x=np.empty(2)                          #it is print random value"
   ]
  },
  {
   "cell_type": "code",
   "execution_count": null,
   "id": "90b24336",
   "metadata": {},
   "outputs": [],
   "source": [
    "np.zeros((2,3))"
   ]
  },
  {
   "cell_type": "code",
   "execution_count": null,
   "id": "fce5b405",
   "metadata": {},
   "outputs": [],
   "source": [
    "np.arange(2,8,2)                     #arange fonction print values 2 to 8 and , 2 is gives steps "
   ]
  },
  {
   "cell_type": "code",
   "execution_count": null,
   "id": "203d0ede",
   "metadata": {},
   "outputs": [],
   "source": [
    "np.linspace(0,10 , num=5,dtype='int8')        "
   ]
  },
  {
   "cell_type": "code",
   "execution_count": null,
   "id": "c238996a",
   "metadata": {},
   "outputs": [],
   "source": [
    "arr=np.array([2,3,4,5,3,1,3])\n"
   ]
  },
  {
   "cell_type": "code",
   "execution_count": null,
   "id": "5cd66481",
   "metadata": {},
   "outputs": [],
   "source": [
    "np.sort(arr)\n"
   ]
  },
  {
   "cell_type": "code",
   "execution_count": null,
   "id": "d086f7d3",
   "metadata": {},
   "outputs": [],
   "source": [
    "a=np.array([[5,2],[3,7]])"
   ]
  },
  {
   "cell_type": "code",
   "execution_count": null,
   "id": "49647086",
   "metadata": {},
   "outputs": [],
   "source": [
    "np.sort(a,axis=0)"
   ]
  },
  {
   "cell_type": "code",
   "execution_count": null,
   "id": "a8744197",
   "metadata": {},
   "outputs": [],
   "source": [
    "x=np.sort(a,axis=0)"
   ]
  },
  {
   "cell_type": "code",
   "execution_count": null,
   "id": "3f631d6e",
   "metadata": {},
   "outputs": [],
   "source": [
    "np.sort(a,axis=1)"
   ]
  },
  {
   "cell_type": "code",
   "execution_count": null,
   "id": "c83a872b",
   "metadata": {},
   "outputs": [],
   "source": [
    "a=np.array([1,2,3,4])\n",
    "b=np.array([5,6,7,8])\n",
    "np.concatenate([a,b],axis=0)"
   ]
  },
  {
   "cell_type": "code",
   "execution_count": null,
   "id": "83876ce1",
   "metadata": {},
   "outputs": [],
   "source": []
  },
  {
   "cell_type": "code",
   "execution_count": null,
   "id": "139dfa55",
   "metadata": {},
   "outputs": [],
   "source": [
    "a=np.array([[1,2],[3,4]])\n",
    "b=np.array([[5,6],[7,8]])\n",
    "np.concatenate([a,b],axis=0)"
   ]
  },
  {
   "cell_type": "code",
   "execution_count": null,
   "id": "23089dff",
   "metadata": {},
   "outputs": [],
   "source": [
    "a=np.array([[1,2],[3,4]])\n",
    "b=np.array([[5,6],[7,8]])\n",
    "np.concatenate([a,b],axis=1)"
   ]
  },
  {
   "cell_type": "code",
   "execution_count": null,
   "id": "f661b8ed",
   "metadata": {},
   "outputs": [],
   "source": [
    "a=np.array([0,1,2,3,4,5])\n",
    "b=a.reshape(3,2)"
   ]
  },
  {
   "cell_type": "code",
   "execution_count": null,
   "id": "0fa122f6",
   "metadata": {},
   "outputs": [],
   "source": [
    "print(b)"
   ]
  },
  {
   "cell_type": "code",
   "execution_count": null,
   "id": "3b8efc82",
   "metadata": {},
   "outputs": [],
   "source": [
    "b=a.reshape(3,2,1)"
   ]
  },
  {
   "cell_type": "code",
   "execution_count": null,
   "id": "0a92e153",
   "metadata": {},
   "outputs": [],
   "source": [
    "b"
   ]
  },
  {
   "cell_type": "code",
   "execution_count": null,
   "id": "7644357c",
   "metadata": {},
   "outputs": [],
   "source": [
    "b.shape"
   ]
  },
  {
   "cell_type": "code",
   "execution_count": null,
   "id": "e00ecbe7",
   "metadata": {},
   "outputs": [],
   "source": []
  },
  {
   "cell_type": "code",
   "execution_count": null,
   "id": "0d3a9b84",
   "metadata": {},
   "outputs": [],
   "source": [
    "a=np.array([1,2,3,4,5,6])\n",
    "a.shape"
   ]
  },
  {
   "cell_type": "markdown",
   "id": "b3db4ce4",
   "metadata": {},
   "source": [
    "you can use np.expand_dims to add at index position "
   ]
  },
  {
   "cell_type": "code",
   "execution_count": null,
   "id": "9fe96112",
   "metadata": {},
   "outputs": [],
   "source": [
    "b=np.expand_dims(a,axis=1)"
   ]
  },
  {
   "cell_type": "code",
   "execution_count": null,
   "id": "0629b9ce",
   "metadata": {},
   "outputs": [],
   "source": [
    "b.shape"
   ]
  },
  {
   "cell_type": "code",
   "execution_count": null,
   "id": "e9c1ab8c",
   "metadata": {},
   "outputs": [],
   "source": [
    "b=np.expand_dims(a,axis=0)"
   ]
  },
  {
   "cell_type": "code",
   "execution_count": null,
   "id": "09f1f488",
   "metadata": {},
   "outputs": [],
   "source": [
    "b.shape"
   ]
  },
  {
   "cell_type": "code",
   "execution_count": null,
   "id": "b217f431",
   "metadata": {},
   "outputs": [],
   "source": [
    "a=np.array([[1,2,3,4],[5,6,7,8],[9,10,11,12]])\n",
    "div_by_2=a[a%2==0]\n",
    "print(div_by_2)"
   ]
  },
  {
   "cell_type": "code",
   "execution_count": null,
   "id": "a0f9fd4e",
   "metadata": {},
   "outputs": [],
   "source": [
    "b=np.nonzero(a<5)                    #ith normally a variable madhil non zero asnari value greater then 5 asal tyachi indexin\n",
    "print(b)"
   ]
  },
  {
   "cell_type": "code",
   "execution_count": null,
   "id": "c2eb9968",
   "metadata": {},
   "outputs": [],
   "source": [
    "a=np.arange(1,13).reshape(6,2)"
   ]
  },
  {
   "cell_type": "code",
   "execution_count": null,
   "id": "005de0fb",
   "metadata": {},
   "outputs": [],
   "source": [
    "print(a)"
   ]
  },
  {
   "cell_type": "code",
   "execution_count": null,
   "id": "a6bb7ac0",
   "metadata": {},
   "outputs": [],
   "source": [
    "list_of_cordinate=list(zip(b[0],b[1]))\n",
    "for i in list_of_cordinate:\n",
    "    print(i)"
   ]
  },
  {
   "cell_type": "code",
   "execution_count": null,
   "id": "3c1a3278",
   "metadata": {},
   "outputs": [],
   "source": [
    "np.array([1,2,3,4,5,5]).reshape(2,3)"
   ]
  },
  {
   "cell_type": "code",
   "execution_count": null,
   "id": "7518beb2",
   "metadata": {},
   "outputs": [],
   "source": [
    "x=np.array([2,3,1,7,3,9,4])\n",
    "c=np.nonzero(x<5)\n",
    "print(c)"
   ]
  },
  {
   "cell_type": "code",
   "execution_count": null,
   "id": "309c4a32",
   "metadata": {},
   "outputs": [],
   "source": [
    "a=[1,2,3,4]\n",
    "b=[\"num\",\"num\",\"num\",\"num\"]\n",
    "for i in zip(a,b):\n",
    "    print(i)"
   ]
  },
  {
   "cell_type": "code",
   "execution_count": null,
   "id": "b8cf61e2",
   "metadata": {},
   "outputs": [],
   "source": [
    "import numpy as np"
   ]
  },
  {
   "cell_type": "code",
   "execution_count": null,
   "id": "01c020b2",
   "metadata": {},
   "outputs": [],
   "source": [
    "a1=np.array([[1,1],[1,2]])\n",
    "a2=np.array([[3,3],[4,4]])"
   ]
  },
  {
   "cell_type": "code",
   "execution_count": null,
   "id": "95eba7c3",
   "metadata": {},
   "outputs": [],
   "source": [
    "np.vstack((a1,a2))"
   ]
  },
  {
   "cell_type": "code",
   "execution_count": null,
   "id": "02398040",
   "metadata": {},
   "outputs": [],
   "source": [
    "np.hstack((a1,a2))"
   ]
  },
  {
   "cell_type": "code",
   "execution_count": null,
   "id": "d5a6d0b6",
   "metadata": {},
   "outputs": [],
   "source": [
    "x=np.arange(1,25).reshape(2,12)"
   ]
  },
  {
   "cell_type": "code",
   "execution_count": null,
   "id": "7de7edde",
   "metadata": {},
   "outputs": [],
   "source": [
    "x"
   ]
  },
  {
   "cell_type": "code",
   "execution_count": null,
   "id": "3ba74575",
   "metadata": {},
   "outputs": [],
   "source": [
    "a=np.hsplit(x,3)"
   ]
  },
  {
   "cell_type": "code",
   "execution_count": null,
   "id": "15a995da",
   "metadata": {},
   "outputs": [],
   "source": [
    "a"
   ]
  },
  {
   "cell_type": "code",
   "execution_count": null,
   "id": "4e62c3c2",
   "metadata": {},
   "outputs": [],
   "source": [
    "type(a)"
   ]
  },
  {
   "cell_type": "code",
   "execution_count": null,
   "id": "8d836fb5",
   "metadata": {},
   "outputs": [],
   "source": [
    "x=np.arange(1,37).reshape(6,6)\n",
    "x=np.hsplit(x,3)\n",
    "x"
   ]
  },
  {
   "cell_type": "code",
   "execution_count": null,
   "id": "0ffc8806",
   "metadata": {},
   "outputs": [],
   "source": [
    "x=np.arange(1,25).reshape(4,6)\n",
    "x=np.vsplit(x,4)\n",
    "x"
   ]
  },
  {
   "cell_type": "code",
   "execution_count": null,
   "id": "e794f608",
   "metadata": {},
   "outputs": [],
   "source": [
    "x=np.arange(1,37).reshape(6,6)\n",
    "x=np.hsplit(x,(2,4))\n",
    "x"
   ]
  },
  {
   "cell_type": "code",
   "execution_count": null,
   "id": "304354e8",
   "metadata": {},
   "outputs": [],
   "source": [
    "data=np.array([1,2])\n",
    "data1=np.ones(2)\n",
    "data+data1"
   ]
  },
  {
   "cell_type": "code",
   "execution_count": null,
   "id": "af2260f6",
   "metadata": {},
   "outputs": [],
   "source": []
  },
  {
   "cell_type": "code",
   "execution_count": null,
   "id": "48928a71",
   "metadata": {},
   "outputs": [],
   "source": [
    "x=np.array([[1,2],[3,4]])\n",
    "y=np.array([[5,6],[7,8]])"
   ]
  },
  {
   "cell_type": "code",
   "execution_count": null,
   "id": "119e91cf",
   "metadata": {},
   "outputs": [],
   "source": []
  },
  {
   "cell_type": "code",
   "execution_count": null,
   "id": "27452103",
   "metadata": {
    "scrolled": true
   },
   "outputs": [],
   "source": [
    "print(x.dot(y))"
   ]
  },
  {
   "cell_type": "code",
   "execution_count": null,
   "id": "8a611ba9",
   "metadata": {
    "scrolled": false
   },
   "outputs": [],
   "source": [
    "x@y"
   ]
  },
  {
   "cell_type": "code",
   "execution_count": null,
   "id": "6158c17b",
   "metadata": {},
   "outputs": [],
   "source": [
    "x=np.array([[1,2,3],[4,5,6],[7,8,9],[10,11,12]])\n",
    "v=np.array([1,0,1])\n",
    "y=np.empty_like(x)    #create a empty matrix with the same shape as x"
   ]
  },
  {
   "cell_type": "code",
   "execution_count": null,
   "id": "95fffb26",
   "metadata": {},
   "outputs": [],
   "source": [
    "print(y)"
   ]
  },
  {
   "cell_type": "code",
   "execution_count": null,
   "id": "7c082962",
   "metadata": {},
   "outputs": [],
   "source": [
    "x"
   ]
  },
  {
   "cell_type": "code",
   "execution_count": null,
   "id": "b88360be",
   "metadata": {},
   "outputs": [],
   "source": [
    "for i in range(3):\n",
    "    y[i:]=x[i,:]+v\n",
    "print(y)"
   ]
  },
  {
   "cell_type": "code",
   "execution_count": null,
   "id": "9c3c3204",
   "metadata": {},
   "outputs": [],
   "source": [
    "x=np.array([[1,2,3],[4,5,6],[7,8,9],[10,11,12]])\n",
    "v=np.array([1,0,1])\n",
    "vv=np.tile(v,(4,1)) \n",
    "print(vv)"
   ]
  },
  {
   "cell_type": "code",
   "execution_count": null,
   "id": "c5931dc1",
   "metadata": {},
   "outputs": [],
   "source": [
    "y=x+vv"
   ]
  },
  {
   "cell_type": "code",
   "execution_count": null,
   "id": "92bac26a",
   "metadata": {},
   "outputs": [],
   "source": [
    "y"
   ]
  },
  {
   "cell_type": "code",
   "execution_count": null,
   "id": "72f09569",
   "metadata": {},
   "outputs": [],
   "source": [
    "x=np.array([1,2,3])\n",
    "y=np.array([4,5,6])\n",
    "list(np.broadcast(x,y))"
   ]
  },
  {
   "cell_type": "code",
   "execution_count": null,
   "id": "2b51c4ab",
   "metadata": {},
   "outputs": [],
   "source": []
  },
  {
   "cell_type": "code",
   "execution_count": null,
   "id": "95d2b493",
   "metadata": {},
   "outputs": [],
   "source": [
    "x=np.arange(5)"
   ]
  },
  {
   "cell_type": "code",
   "execution_count": null,
   "id": "a66802ea",
   "metadata": {},
   "outputs": [],
   "source": [
    "x[::-1]"
   ]
  },
  {
   "cell_type": "code",
   "execution_count": null,
   "id": "d02793f0",
   "metadata": {},
   "outputs": [],
   "source": [
    "z=np.arange(16).reshape(4,4)"
   ]
  },
  {
   "cell_type": "code",
   "execution_count": null,
   "id": "51e76c57",
   "metadata": {},
   "outputs": [],
   "source": [
    "z"
   ]
  },
  {
   "cell_type": "code",
   "execution_count": null,
   "id": "2fbfcd75",
   "metadata": {},
   "outputs": [],
   "source": [
    "nz=np.nonzero([1,2,0,0,4,0])     #its give a position of non zero value "
   ]
  },
  {
   "cell_type": "code",
   "execution_count": null,
   "id": "99385c72",
   "metadata": {},
   "outputs": [],
   "source": [
    "nz"
   ]
  },
  {
   "cell_type": "code",
   "execution_count": null,
   "id": "7cb81f92",
   "metadata": {},
   "outputs": [],
   "source": [
    "z=np.random.random((10,10))   #10 rows and 10 column\n",
    "zmin,zmax=z.min(),z.max()"
   ]
  },
  {
   "cell_type": "code",
   "execution_count": null,
   "id": "cc24db10",
   "metadata": {},
   "outputs": [],
   "source": [
    "print(zmin,zmax)"
   ]
  },
  {
   "cell_type": "code",
   "execution_count": null,
   "id": "c9920bb0",
   "metadata": {},
   "outputs": [],
   "source": [
    "x=np.ones((3,3))\n",
    "x[1,1]=0\n",
    "x"
   ]
  },
  {
   "cell_type": "markdown",
   "id": "6d0a8971",
   "metadata": {},
   "source": []
  },
  {
   "cell_type": "code",
   "execution_count": 140,
   "id": "9872461f",
   "metadata": {},
   "outputs": [],
   "source": [
    "a=np.zeros((6,6),'int32')"
   ]
  },
  {
   "cell_type": "code",
   "execution_count": 146,
   "id": "ae2f8dbc",
   "metadata": {},
   "outputs": [],
   "source": [
    "a[1:-1,1:-1]=1"
   ]
  },
  {
   "cell_type": "code",
   "execution_count": 147,
   "id": "52ebab72",
   "metadata": {},
   "outputs": [
    {
     "data": {
      "text/plain": [
       "array([[0, 1, 0, 1, 0, 1],\n",
       "       [1, 1, 1, 1, 1, 0],\n",
       "       [0, 1, 1, 1, 1, 0],\n",
       "       [1, 1, 1, 1, 1, 0],\n",
       "       [0, 1, 1, 1, 1, 0],\n",
       "       [1, 0, 1, 0, 1, 0]])"
      ]
     },
     "execution_count": 147,
     "metadata": {},
     "output_type": "execute_result"
    }
   ],
   "source": [
    "a"
   ]
  },
  {
   "cell_type": "code",
   "execution_count": 143,
   "id": "ae165f96",
   "metadata": {},
   "outputs": [],
   "source": [
    "a=np.ones((6,6),'int32')"
   ]
  },
  {
   "cell_type": "code",
   "execution_count": 144,
   "id": "757ce09a",
   "metadata": {},
   "outputs": [
    {
     "data": {
      "text/plain": [
       "array([[1, 1, 1, 1, 1, 1],\n",
       "       [1, 1, 1, 1, 1, 1],\n",
       "       [1, 1, 1, 1, 1, 1],\n",
       "       [1, 1, 1, 1, 1, 1],\n",
       "       [1, 1, 1, 1, 1, 1],\n",
       "       [1, 1, 1, 1, 1, 1]])"
      ]
     },
     "execution_count": 144,
     "metadata": {},
     "output_type": "execute_result"
    }
   ],
   "source": [
    "a"
   ]
  },
  {
   "cell_type": "code",
   "execution_count": 145,
   "id": "f0e8e1a7",
   "metadata": {},
   "outputs": [],
   "source": [
    "a[::2,::2]=0\n",
    "a[1::1,1::2]=0"
   ]
  },
  {
   "cell_type": "code",
   "execution_count": 139,
   "id": "77c9ce01",
   "metadata": {},
   "outputs": [
    {
     "data": {
      "text/plain": [
       "array([[0, 1, 0, 1, 0, 1],\n",
       "       [1, 0, 1, 0, 1, 0],\n",
       "       [0, 0, 0, 0, 0, 0],\n",
       "       [1, 0, 1, 0, 1, 0],\n",
       "       [0, 0, 0, 0, 0, 0],\n",
       "       [1, 0, 1, 0, 1, 0]])"
      ]
     },
     "execution_count": 139,
     "metadata": {},
     "output_type": "execute_result"
    }
   ],
   "source": [
    "a"
   ]
  },
  {
   "cell_type": "code",
   "execution_count": 119,
   "id": "83badd1f",
   "metadata": {},
   "outputs": [],
   "source": [
    "z =np.ones((5,5))\n",
    "z=np.pad(z,pad_width=3,mode='constant',constant_values=0)"
   ]
  },
  {
   "cell_type": "code",
   "execution_count": 120,
   "id": "404d1c21",
   "metadata": {},
   "outputs": [
    {
     "data": {
      "text/plain": [
       "array([[0., 0., 0., 0., 0., 0., 0., 0., 0., 0., 0.],\n",
       "       [0., 0., 0., 0., 0., 0., 0., 0., 0., 0., 0.],\n",
       "       [0., 0., 0., 0., 0., 0., 0., 0., 0., 0., 0.],\n",
       "       [0., 0., 0., 1., 1., 1., 1., 1., 0., 0., 0.],\n",
       "       [0., 0., 0., 1., 1., 1., 1., 1., 0., 0., 0.],\n",
       "       [0., 0., 0., 1., 1., 1., 1., 1., 0., 0., 0.],\n",
       "       [0., 0., 0., 1., 1., 1., 1., 1., 0., 0., 0.],\n",
       "       [0., 0., 0., 1., 1., 1., 1., 1., 0., 0., 0.],\n",
       "       [0., 0., 0., 0., 0., 0., 0., 0., 0., 0., 0.],\n",
       "       [0., 0., 0., 0., 0., 0., 0., 0., 0., 0., 0.],\n",
       "       [0., 0., 0., 0., 0., 0., 0., 0., 0., 0., 0.]])"
      ]
     },
     "execution_count": 120,
     "metadata": {},
     "output_type": "execute_result"
    }
   ],
   "source": [
    "z"
   ]
  },
  {
   "cell_type": "code",
   "execution_count": null,
   "id": "739af8a9",
   "metadata": {},
   "outputs": [],
   "source": []
  },
  {
   "cell_type": "code",
   "execution_count": 121,
   "id": "d5ed410a",
   "metadata": {},
   "outputs": [
    {
     "data": {
      "text/plain": [
       "False"
      ]
     },
     "execution_count": 121,
     "metadata": {},
     "output_type": "execute_result"
    }
   ],
   "source": [
    "0*np.nan\n",
    "np.nan == np.nan\n",
    "np.inf > np.nan\n",
    "np.nan - np.nan\n",
    "np.nan in set ([np.nan])\n",
    "0.3 ==3 * 0.1"
   ]
  },
  {
   "cell_type": "code",
   "execution_count": 122,
   "id": "a371074c",
   "metadata": {},
   "outputs": [
    {
     "data": {
      "text/plain": [
       "array([[0, 0, 0, 0, 0],\n",
       "       [1, 0, 0, 0, 0],\n",
       "       [0, 2, 0, 0, 0],\n",
       "       [0, 0, 3, 0, 0],\n",
       "       [0, 0, 0, 4, 0]])"
      ]
     },
     "execution_count": 122,
     "metadata": {},
     "output_type": "execute_result"
    }
   ],
   "source": [
    "np.diag(1+np.arange(4),k=-1)"
   ]
  },
  {
   "cell_type": "code",
   "execution_count": 123,
   "id": "1db1631e",
   "metadata": {},
   "outputs": [],
   "source": [
    "x=np.ones((8,8),'int8')"
   ]
  },
  {
   "cell_type": "code",
   "execution_count": 124,
   "id": "bc2960be",
   "metadata": {},
   "outputs": [
    {
     "data": {
      "text/plain": [
       "array([[1, 1, 1, 1, 1, 1, 1, 1],\n",
       "       [1, 1, 1, 1, 1, 1, 1, 1],\n",
       "       [1, 1, 1, 1, 1, 1, 1, 1],\n",
       "       [1, 1, 1, 1, 1, 1, 1, 1],\n",
       "       [1, 1, 1, 1, 1, 1, 1, 1],\n",
       "       [1, 1, 1, 1, 1, 1, 1, 1],\n",
       "       [1, 1, 1, 1, 1, 1, 1, 1],\n",
       "       [1, 1, 1, 1, 1, 1, 1, 1]], dtype=int8)"
      ]
     },
     "execution_count": 124,
     "metadata": {},
     "output_type": "execute_result"
    }
   ],
   "source": [
    "x"
   ]
  },
  {
   "cell_type": "code",
   "execution_count": null,
   "id": "6a3c5175",
   "metadata": {},
   "outputs": [],
   "source": []
  },
  {
   "cell_type": "code",
   "execution_count": 127,
   "id": "99dfa235",
   "metadata": {},
   "outputs": [],
   "source": [
    "x=np.array([np.arange(336)]).reshape(6,7,8)"
   ]
  },
  {
   "cell_type": "code",
   "execution_count": 128,
   "id": "5abd34c7",
   "metadata": {},
   "outputs": [
    {
     "data": {
      "text/plain": [
       "array([[[  0,   1,   2,   3,   4,   5,   6,   7],\n",
       "        [  8,   9,  10,  11,  12,  13,  14,  15],\n",
       "        [ 16,  17,  18,  19,  20,  21,  22,  23],\n",
       "        [ 24,  25,  26,  27,  28,  29,  30,  31],\n",
       "        [ 32,  33,  34,  35,  36,  37,  38,  39],\n",
       "        [ 40,  41,  42,  43,  44,  45,  46,  47],\n",
       "        [ 48,  49,  50,  51,  52,  53,  54,  55]],\n",
       "\n",
       "       [[ 56,  57,  58,  59,  60,  61,  62,  63],\n",
       "        [ 64,  65,  66,  67,  68,  69,  70,  71],\n",
       "        [ 72,  73,  74,  75,  76,  77,  78,  79],\n",
       "        [ 80,  81,  82,  83,  84,  85,  86,  87],\n",
       "        [ 88,  89,  90,  91,  92,  93,  94,  95],\n",
       "        [ 96,  97,  98,  99, 100, 101, 102, 103],\n",
       "        [104, 105, 106, 107, 108, 109, 110, 111]],\n",
       "\n",
       "       [[112, 113, 114, 115, 116, 117, 118, 119],\n",
       "        [120, 121, 122, 123, 124, 125, 126, 127],\n",
       "        [128, 129, 130, 131, 132, 133, 134, 135],\n",
       "        [136, 137, 138, 139, 140, 141, 142, 143],\n",
       "        [144, 145, 146, 147, 148, 149, 150, 151],\n",
       "        [152, 153, 154, 155, 156, 157, 158, 159],\n",
       "        [160, 161, 162, 163, 164, 165, 166, 167]],\n",
       "\n",
       "       [[168, 169, 170, 171, 172, 173, 174, 175],\n",
       "        [176, 177, 178, 179, 180, 181, 182, 183],\n",
       "        [184, 185, 186, 187, 188, 189, 190, 191],\n",
       "        [192, 193, 194, 195, 196, 197, 198, 199],\n",
       "        [200, 201, 202, 203, 204, 205, 206, 207],\n",
       "        [208, 209, 210, 211, 212, 213, 214, 215],\n",
       "        [216, 217, 218, 219, 220, 221, 222, 223]],\n",
       "\n",
       "       [[224, 225, 226, 227, 228, 229, 230, 231],\n",
       "        [232, 233, 234, 235, 236, 237, 238, 239],\n",
       "        [240, 241, 242, 243, 244, 245, 246, 247],\n",
       "        [248, 249, 250, 251, 252, 253, 254, 255],\n",
       "        [256, 257, 258, 259, 260, 261, 262, 263],\n",
       "        [264, 265, 266, 267, 268, 269, 270, 271],\n",
       "        [272, 273, 274, 275, 276, 277, 278, 279]],\n",
       "\n",
       "       [[280, 281, 282, 283, 284, 285, 286, 287],\n",
       "        [288, 289, 290, 291, 292, 293, 294, 295],\n",
       "        [296, 297, 298, 299, 300, 301, 302, 303],\n",
       "        [304, 305, 306, 307, 308, 309, 310, 311],\n",
       "        [312, 313, 314, 315, 316, 317, 318, 319],\n",
       "        [320, 321, 322, 323, 324, 325, 326, 327],\n",
       "        [328, 329, 330, 331, 332, 333, 334, 335]]])"
      ]
     },
     "execution_count": 128,
     "metadata": {},
     "output_type": "execute_result"
    }
   ],
   "source": [
    "x"
   ]
  },
  {
   "cell_type": "code",
   "execution_count": 129,
   "id": "c5caea0e",
   "metadata": {},
   "outputs": [],
   "source": [
    "pos=np.unravel_index(99,(6,7,8))                           "
   ]
  },
  {
   "cell_type": "code",
   "execution_count": 130,
   "id": "ec89f3af",
   "metadata": {},
   "outputs": [
    {
     "data": {
      "text/plain": [
       "(1, 5, 3)"
      ]
     },
     "execution_count": 130,
     "metadata": {},
     "output_type": "execute_result"
    }
   ],
   "source": [
    "pos"
   ]
  },
  {
   "cell_type": "code",
   "execution_count": null,
   "id": "cd13a9e3",
   "metadata": {},
   "outputs": [],
   "source": []
  },
  {
   "cell_type": "markdown",
   "id": "8b9a0a2f",
   "metadata": {},
   "source": [
    "checkerboard 8 by 8 matrix using the tile function"
   ]
  },
  {
   "cell_type": "code",
   "execution_count": 131,
   "id": "157afba7",
   "metadata": {},
   "outputs": [],
   "source": [
    "z=np.tile(np.array([[0,1],[1,0]]),(4,4))"
   ]
  },
  {
   "cell_type": "code",
   "execution_count": 132,
   "id": "a376f00f",
   "metadata": {},
   "outputs": [
    {
     "data": {
      "text/plain": [
       "array([[0, 1, 0, 1, 0, 1, 0, 1],\n",
       "       [1, 0, 1, 0, 1, 0, 1, 0],\n",
       "       [0, 1, 0, 1, 0, 1, 0, 1],\n",
       "       [1, 0, 1, 0, 1, 0, 1, 0],\n",
       "       [0, 1, 0, 1, 0, 1, 0, 1],\n",
       "       [1, 0, 1, 0, 1, 0, 1, 0],\n",
       "       [0, 1, 0, 1, 0, 1, 0, 1],\n",
       "       [1, 0, 1, 0, 1, 0, 1, 0]])"
      ]
     },
     "execution_count": 132,
     "metadata": {},
     "output_type": "execute_result"
    }
   ],
   "source": [
    "z"
   ]
  },
  {
   "cell_type": "code",
   "execution_count": 133,
   "id": "c5ea3acd",
   "metadata": {},
   "outputs": [
    {
     "data": {
      "text/plain": [
       "(8, 8)"
      ]
     },
     "execution_count": 133,
     "metadata": {},
     "output_type": "execute_result"
    }
   ],
   "source": [
    "z.shape"
   ]
  },
  {
   "cell_type": "code",
   "execution_count": 149,
   "id": "ff894eb8",
   "metadata": {},
   "outputs": [
    {
     "name": "stdout",
     "output_type": "stream",
     "text": [
      "[[-1.15171771 -1.08377436 -1.05876366 -0.73588589 -1.10461881]\n",
      " [-1.29923054 -1.55073376 -1.36791783 -1.37978827 -0.88033838]\n",
      " [-1.2274541  -1.12120765 -1.16245227 -1.61624648 -1.62248678]\n",
      " [-1.0779482  -1.13028049 -1.33937501 -0.76622002 -0.66074513]\n",
      " [-0.94708516 -1.23284032 -1.59960986 -0.90472761 -1.62859026]]\n"
     ]
    }
   ],
   "source": [
    "z=np.random.random((5,5))\n",
    "z=(z-np.mean(z) / np.std(z))\n",
    "print(z)"
   ]
  },
  {
   "cell_type": "code",
   "execution_count": 135,
   "id": "478f7440",
   "metadata": {},
   "outputs": [
    {
     "data": {
      "text/plain": [
       "array([[0.44777807, 0.61557157, 0.47233835, 0.73548055, 0.99514897],\n",
       "       [0.09927386, 0.1800513 , 0.78549254, 0.43521311, 0.26263984],\n",
       "       [0.72735746, 0.82749204, 0.64821967, 0.27723167, 0.04106362],\n",
       "       [0.72672753, 0.42350153, 0.21048123, 0.23276604, 0.72933288],\n",
       "       [0.19773063, 0.75506863, 0.96261162, 0.57840962, 0.55045597]])"
      ]
     },
     "execution_count": 135,
     "metadata": {},
     "output_type": "execute_result"
    }
   ],
   "source": [
    "z=np.random.random((5,5))\n",
    "z"
   ]
  },
  {
   "cell_type": "code",
   "execution_count": null,
   "id": "bb14ca6e",
   "metadata": {},
   "outputs": [],
   "source": []
  },
  {
   "cell_type": "code",
   "execution_count": null,
   "id": "b07bd227",
   "metadata": {},
   "outputs": [],
   "source": []
  }
 ],
 "metadata": {
  "kernelspec": {
   "display_name": "Python 3 (ipykernel)",
   "language": "python",
   "name": "python3"
  },
  "language_info": {
   "codemirror_mode": {
    "name": "ipython",
    "version": 3
   },
   "file_extension": ".py",
   "mimetype": "text/x-python",
   "name": "python",
   "nbconvert_exporter": "python",
   "pygments_lexer": "ipython3",
   "version": "3.11.4"
  }
 },
 "nbformat": 4,
 "nbformat_minor": 5
}
